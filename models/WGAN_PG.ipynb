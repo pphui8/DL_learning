{
  "cells": [
    {
      "cell_type": "markdown",
      "metadata": {
        "id": "u71v0ad8B2T9"
      },
      "source": [
        "## WGAN-PG with MNIST"
      ]
    },
    {
      "cell_type": "markdown",
      "metadata": {
        "id": "6T5Yi112B5Rr"
      },
      "source": [
        "## model"
      ]
    },
    {
      "cell_type": "code",
      "source": [
        "import argparse\n",
        "import os\n",
        "import numpy as np\n",
        "import math\n",
        "import sys\n",
        "\n",
        "import torchvision.transforms as transforms\n",
        "from torchvision.utils import save_image\n",
        "\n",
        "from torch.utils.data import DataLoader\n",
        "from torchvision import datasets\n",
        "from torch.autograd import Variable\n",
        "\n",
        "import torch.nn as nn\n",
        "import torch.nn.functional as F\n",
        "import torch.autograd as autograd\n",
        "import torch\n",
        "\n",
        "import matplotlib.pyplot as plt"
      ],
      "metadata": {
        "id": "DDCeIXf5wCAl"
      },
      "execution_count": 38,
      "outputs": []
    },
    {
      "cell_type": "code",
      "execution_count": 39,
      "metadata": {
        "id": "UXhBWC0JKyfP"
      },
      "outputs": [],
      "source": [
        "class hyperparameters:\n",
        "  n_epochs = 50\n",
        "  img_size = 28\n",
        "  batch_size = 128\n",
        "  lr = 0.0002\n",
        "  b1 = 0.5\n",
        "  b2 = 0.999\n",
        "  latent_dim = 100\n",
        "  channels = 1\n",
        "  n_critic = 5\n",
        "  clip_value = 0.1\n",
        "  sample_interval = 400\n",
        "\n",
        "opt = hyperparameters()\n",
        "\n",
        "lambda_gp = 10\n",
        "\n",
        "img_shape = (opt.channels, opt.img_size, opt.img_size)\n",
        "\n",
        "class Generator(nn.Module):\n",
        "    def __init__(self):\n",
        "        super(Generator, self).__init__()\n",
        "\n",
        "        def block(in_feat, out_feat, normalize=True):\n",
        "            layers = [nn.Linear(in_feat, out_feat)]\n",
        "            if normalize:\n",
        "                layers.append(nn.BatchNorm1d(out_feat, 0.8))\n",
        "            layers.append(nn.LeakyReLU(0.2, inplace=True))\n",
        "            return layers\n",
        "\n",
        "        self.model = nn.Sequential(\n",
        "            *block(opt.latent_dim, 128, normalize=False),\n",
        "            *block(128, 256),\n",
        "            *block(256, 512),\n",
        "            *block(512, 1024),\n",
        "            nn.Linear(1024, int(np.prod(img_shape))),\n",
        "            nn.Tanh()\n",
        "        )\n",
        "\n",
        "    def forward(self, z):\n",
        "        img = self.model(z)\n",
        "        img = img.view(img.shape[0], *img_shape)\n",
        "        return img\n",
        "\n",
        "\n",
        "class Discriminator(nn.Module):\n",
        "    def __init__(self):\n",
        "        super(Discriminator, self).__init__()\n",
        "\n",
        "        self.model = nn.Sequential(\n",
        "            nn.Linear(int(np.prod(img_shape)), 512),\n",
        "            nn.LeakyReLU(0.2, inplace=True),\n",
        "            nn.Linear(512, 256),\n",
        "            nn.LeakyReLU(0.2, inplace=True),\n",
        "            nn.Linear(256, 1),\n",
        "        )\n",
        "\n",
        "    def forward(self, img):\n",
        "        img_flat = img.view(img.shape[0], -1)\n",
        "        validity = self.model(img_flat)\n",
        "        return validity"
      ]
    },
    {
      "cell_type": "markdown",
      "metadata": {
        "id": "IDCeqB718fQH"
      },
      "source": [
        "### pare GPU"
      ]
    },
    {
      "cell_type": "code",
      "execution_count": 40,
      "metadata": {
        "colab": {
          "base_uri": "https://localhost:8080/"
        },
        "id": "KSe9iTI28fQH",
        "outputId": "c2116b03-7fbe-47a7-be7b-5752eacaace1"
      },
      "outputs": [
        {
          "output_type": "stream",
          "name": "stdout",
          "text": [
            "True\n",
            "1\n",
            "Thu Mar  2 09:16:51 2023       \n",
            "+-----------------------------------------------------------------------------+\n",
            "| NVIDIA-SMI 525.85.12    Driver Version: 525.85.12    CUDA Version: 12.0     |\n",
            "|-------------------------------+----------------------+----------------------+\n",
            "| GPU  Name        Persistence-M| Bus-Id        Disp.A | Volatile Uncorr. ECC |\n",
            "| Fan  Temp  Perf  Pwr:Usage/Cap|         Memory-Usage | GPU-Util  Compute M. |\n",
            "|                               |                      |               MIG M. |\n",
            "|===============================+======================+======================|\n",
            "|   0  Tesla T4            Off  | 00000000:00:04.0 Off |                    0 |\n",
            "| N/A   59C    P0    28W /  70W |    861MiB / 15360MiB |      0%      Default |\n",
            "|                               |                      |                  N/A |\n",
            "+-------------------------------+----------------------+----------------------+\n",
            "                                                                               \n",
            "+-----------------------------------------------------------------------------+\n",
            "| Processes:                                                                  |\n",
            "|  GPU   GI   CI        PID   Type   Process name                  GPU Memory |\n",
            "|        ID   ID                                                   Usage      |\n",
            "|=============================================================================|\n",
            "+-----------------------------------------------------------------------------+\n"
          ]
        }
      ],
      "source": [
        "print(torch.cuda.is_available())\n",
        "print(torch.cuda.device_count())\n",
        "!nvidia-smi\n",
        "\n",
        "cuda = True if torch.cuda.is_available() else False"
      ]
    },
    {
      "cell_type": "markdown",
      "metadata": {
        "id": "fS1p54P5COHG"
      },
      "source": [
        "### datasets"
      ]
    },
    {
      "cell_type": "code",
      "execution_count": 41,
      "metadata": {
        "id": "2yXGi7AluHKb",
        "colab": {
          "base_uri": "https://localhost:8080/",
          "height": 319
        },
        "outputId": "76a403b7-dd1f-4c1e-a40a-352148f88137"
      },
      "outputs": [
        {
          "output_type": "stream",
          "name": "stdout",
          "text": [
            "torch.Size([1, 28, 28])\n",
            "5\n"
          ]
        },
        {
          "output_type": "execute_result",
          "data": {
            "text/plain": [
              "<matplotlib.image.AxesImage at 0x7fb2d47f7d60>"
            ]
          },
          "metadata": {},
          "execution_count": 41
        },
        {
          "output_type": "display_data",
          "data": {
            "text/plain": [
              "<Figure size 432x288 with 1 Axes>"
            ],
            "image/png": "[encoded data removed]"
          },
          "metadata": {
            "needs_background": "light"
          }
        }
      ],
      "source": [
        "dataloader = torch.utils.data.DataLoader(\n",
        "    dataset=datasets.MNIST(\n",
        "        root='./data',\n",
        "        train=True,\n",
        "        download=True,\n",
        "        transform=transforms.Compose(\n",
        "            [transforms.Resize(opt.img_size), transforms.ToTensor(), transforms.Normalize([0.5], [0.5])]\n",
        "        ),\n",
        "    ),\n",
        "    batch_size=opt.batch_size,\n",
        "    shuffle=True,\n",
        ")\n",
        "\n",
        "# show a example data\n",
        "index = 10\n",
        "\n",
        "dataiter = iter(dataloader)\n",
        "(img, label) = next(dataiter)\n",
        "\n",
        "print(img[0].shape)\n",
        "print(label[index].item())\n",
        "\n",
        "plt.imshow(img[index].squeeze(), cmap='gray')"
      ]
    },
    {
      "cell_type": "markdown",
      "metadata": {
        "id": "QqS6n5LeGWU6"
      },
      "source": [
        "## define hyperparameter"
      ]
    },
    {
      "cell_type": "code",
      "source": [
        "# Initialize generator and discriminator\n",
        "generator = Generator()\n",
        "discriminator = Discriminator()\n",
        "\n",
        "if cuda:\n",
        "    generator.cuda()\n",
        "    discriminator.cuda()\n",
        "\n",
        "# Optimizers\n",
        "optimizer_G = torch.optim.Adam(generator.parameters(), lr=opt.lr, betas=(opt.b1, opt.b2))\n",
        "optimizer_D = torch.optim.Adam(discriminator.parameters(), lr=opt.lr, betas=(opt.b1, opt.b2))"
      ],
      "metadata": {
        "id": "1-PX0VvrH9qF"
      },
      "execution_count": 42,
      "outputs": []
    },
    {
      "cell_type": "code",
      "source": [
        "def compute_gradient_penalty(D, real_samples, fake_samples):\n",
        "    \"\"\"Calculates the gradient penalty loss for WGAN GP\"\"\"\n",
        "    # Random weight term for interpolation between real and fake samples\n",
        "    alpha = Tensor(np.random.random((real_samples.size(0), 1, 1, 1)))\n",
        "    # Get random interpolation between real and fake samples\n",
        "    interpolates = (alpha * real_samples + ((1 - alpha) * fake_samples)).requires_grad_(True)\n",
        "    d_interpolates = D(interpolates)\n",
        "    fake = Variable(Tensor(real_samples.shape[0], 1).fill_(1.0), requires_grad=False)\n",
        "    # Get gradient w.r.t. interpolates\n",
        "    gradients = autograd.grad(\n",
        "        outputs=d_interpolates,\n",
        "        inputs=interpolates,\n",
        "        grad_outputs=fake,\n",
        "        create_graph=True,\n",
        "        retain_graph=True,\n",
        "        only_inputs=True,\n",
        "    )[0]\n",
        "    gradients = gradients.view(gradients.size(0), -1)\n",
        "    gradient_penalty = ((gradients.norm(2, dim=1) - 1) ** 2).mean()\n",
        "    return gradient_penalty"
      ],
      "metadata": {
        "id": "5ZehfFfsgPcC"
      },
      "execution_count": 43,
      "outputs": []
    },
    {
      "cell_type": "code",
      "source": [
        "Generator_PATH = './Gmodel'\n",
        "Discriminator_PATH = './Dmodel'\n",
        "\n",
        "# generator.load_state_dict(torch.load(Generator_PATH))\n",
        "# discriminator.load_state_dict(torch.load(Discriminator_PATH))"
      ],
      "metadata": {
        "id": "ZC_wLZFc2Vz6"
      },
      "execution_count": 44,
      "outputs": []
    },
    {
      "cell_type": "code",
      "execution_count": 45,
      "metadata": {
        "id": "-0oxnVmiGcOM",
        "colab": {
          "base_uri": "https://localhost:8080/"
        },
        "outputId": "fe38b522-1ed4-46e3-f3c7-0a5d064d96bc"
      },
      "outputs": [
        {
          "output_type": "stream",
          "name": "stdout",
          "text": [
            "[Epoch 0/50] [Batch 468/469] [D loss: -2.191112] [G loss: -6.843139]\n",
            "[Epoch 10/50] [Batch 468/469] [D loss: -4.964634] [G loss: 3.039547]\n",
            "[Epoch 20/50] [Batch 468/469] [D loss: -3.475343] [G loss: 0.117437]\n",
            "[Epoch 30/50] [Batch 468/469] [D loss: -3.030369] [G loss: -0.396256]\n",
            "[Epoch 40/50] [Batch 468/469] [D loss: -2.271953] [G loss: -0.974345]\n"
          ]
        }
      ],
      "source": [
        "batches_done = 0\n",
        "Tensor = torch.cuda.FloatTensor if cuda else torch.FloatTensor\n",
        "\n",
        "for epoch in range(opt.n_epochs):\n",
        "    for i, (imgs, _) in enumerate(dataloader):\n",
        "\n",
        "        # Configure input\n",
        "        real_imgs = Variable(imgs.type(Tensor))\n",
        "\n",
        "        # ---------------------\n",
        "        #  Train Discriminator\n",
        "        # ---------------------\n",
        "\n",
        "        optimizer_D.zero_grad()\n",
        "\n",
        "        # Sample noise as generator input\n",
        "        z = Variable(Tensor(np.random.normal(0, 1, (imgs.shape[0], opt.latent_dim))))\n",
        "\n",
        "        # Generate a batch of images\n",
        "        fake_imgs = generator(z)\n",
        "\n",
        "        # Real images\n",
        "        real_validity = discriminator(real_imgs)\n",
        "        # Fake images\n",
        "        fake_validity = discriminator(fake_imgs)\n",
        "        # Gradient penalty\n",
        "        gradient_penalty = compute_gradient_penalty(discriminator, real_imgs.data, fake_imgs.data)\n",
        "        # Adversarial loss\n",
        "        d_loss = -torch.mean(real_validity) + torch.mean(fake_validity) + lambda_gp * gradient_penalty\n",
        "\n",
        "        d_loss.backward()\n",
        "        optimizer_D.step()\n",
        "\n",
        "        optimizer_G.zero_grad()\n",
        "\n",
        "        # Train the generator every n_critic steps\n",
        "        if i % opt.n_critic == 0:\n",
        "\n",
        "            # -----------------\n",
        "            #  Train Generator\n",
        "            # -----------------\n",
        "\n",
        "            # Generate a batch of images\n",
        "            fake_imgs = generator(z)\n",
        "            # Loss measures generator's ability to fool the discriminator\n",
        "            # Train on fake images\n",
        "            fake_validity = discriminator(fake_imgs)\n",
        "            g_loss = -torch.mean(fake_validity)\n",
        "\n",
        "            g_loss.backward()\n",
        "            optimizer_G.step()\n",
        "\n",
        "            # if batches_done % opt.sample_interval == 0:\n",
        "            #     save_image(fake_imgs.data[:25], \"images/%d.png\" % batches_done, nrow=5, normalize=True)\n",
        "\n",
        "            batches_done += opt.n_critic\n",
        "    if epoch % 10 == 0:\n",
        "      print(\n",
        "          \"[Epoch %d/%d] [Batch %d/%d] [D loss: %f] [G loss: %f]\"\n",
        "          % (epoch, opt.n_epochs, i, len(dataloader), d_loss.item(), g_loss.item())\n",
        "      )\n",
        "\n",
        "\n",
        "torch.save(generator.state_dict(), Generator_PATH)\n",
        "torch.save(discriminator.state_dict(), Discriminator_PATH)"
      ]
    },
    {
      "cell_type": "code",
      "source": [
        "torch.save(generator.state_dict(), Generator_PATH)\n",
        "torch.save(discriminator.state_dict(), Discriminator_PATH)"
      ],
      "metadata": {
        "id": "vOxYpuBrz9TY"
      },
      "execution_count": null,
      "outputs": []
    },
    {
      "cell_type": "markdown",
      "metadata": {
        "id": "gImCMDTXMOdv"
      },
      "source": [
        "## test"
      ]
    },
    {
      "cell_type": "code",
      "source": [
        "with torch.no_grad():\n",
        "  # Sample noise as generator input\n",
        "  z = Variable(Tensor(np.random.normal(0, 1, (imgs.shape[0], opt.latent_dim))))\n",
        "\n",
        "  # Generate a batch of images\n",
        "  gen_imgs = generator(z)\n",
        "  gen_imgs = gen_imgs.cpu()\n",
        "\n",
        "  print(gen_imgs[0].shape)\n",
        "\n",
        "  fig, axes = plt.subplots(nrows=1, ncols=8, figsize=(10,5))\n",
        "\n",
        "  for i, ax in enumerate(axes):\n",
        "      ax.imshow(gen_imgs[i].squeeze(), cmap='gray')\n",
        "      ax.axis('off')\n"
      ],
      "metadata": {
        "colab": {
          "base_uri": "https://localhost:8080/",
          "height": 108
        },
        "id": "v1M2G_GrK4PH",
        "outputId": "0b621dcf-fb40-40e9-951c-a2adccc7d1b9"
      },
      "execution_count": 47,
      "outputs": [
        {
          "output_type": "stream",
          "name": "stdout",
          "text": [
            "torch.Size([1, 28, 28])\n"
          ]
        },
        {
          "output_type": "display_data",
          "data": {
            "text/plain": [
              "<Figure size 720x360 with 8 Axes>"
            ],
            "image/png": "[encoded data removed]"
          },
          "metadata": {
            "needs_background": "light"
          }
        }
      ]
    }
  ],
  "metadata": {
    "colab": {
      "provenance": [],
      "toc_visible": true
    },
    "kernelspec": {
      "display_name": "Python 3",
      "name": "python3"
    },
    "language_info": {
      "name": "python"
    },
    "accelerator": "GPU",
    "gpuClass": "standard"
  },
  "nbformat": 4,
  "nbformat_minor": 0
}
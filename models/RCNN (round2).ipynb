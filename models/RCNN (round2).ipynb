{
  "cells": [
    {
      "cell_type": "markdown",
      "metadata": {
        "id": "u71v0ad8B2T9"
      },
      "source": [
        "# RCNN for CIFAR-100"
      ]
    },
    {
      "cell_type": "markdown",
      "metadata": {
        "id": "6T5Yi112B5Rr"
      },
      "source": [
        "## model"
      ]
    },
    {
      "cell_type": "code",
      "execution_count": 1,
      "metadata": {
        "id": "UXhBWC0JKyfP"
      },
      "outputs": [],
      "source": [
        "\"\"\"resnet in pytorch\n",
        "[1] Kaiming He, Xiangyu Zhang, Shaoqing Ren, Jian Sun.\n",
        "    Deep Residual Learning for Image Recognition\n",
        "    https://arxiv.org/abs/1512.03385v1\n",
        "\"\"\"\n",
        "\n",
        "import torch\n",
        "import torch.nn as nn\n",
        "\n",
        "class BasicBlock(nn.Module):\n",
        "    \"\"\"Basic Block for resnet 18 and resnet 34\n",
        "    \"\"\"\n",
        "\n",
        "    #BasicBlock and BottleNeck block\n",
        "    #have different output size\n",
        "    #we use class attribute expansion\n",
        "    #to distinct\n",
        "    expansion = 1\n",
        "\n",
        "    def __init__(self, in_channels, out_channels, stride=1):\n",
        "        super().__init__()\n",
        "\n",
        "        #residual function\n",
        "        self.residual_function = nn.Sequential(\n",
        "            nn.Conv2d(in_channels, out_channels, kernel_size=3, stride=stride, padding=1, bias=False),\n",
        "            nn.BatchNorm2d(out_channels),\n",
        "            nn.ReLU(inplace=True),\n",
        "            nn.Conv2d(out_channels, out_channels * BasicBlock.expansion, kernel_size=3, padding=1, bias=False),\n",
        "            nn.BatchNorm2d(out_channels * BasicBlock.expansion)\n",
        "        )\n",
        "\n",
        "        #shortcut\n",
        "        self.shortcut = nn.Sequential()\n",
        "\n",
        "        #the shortcut output dimension is not the same with residual function\n",
        "        #use 1*1 convolution to match the dimension\n",
        "        if stride != 1 or in_channels != BasicBlock.expansion * out_channels:\n",
        "            self.shortcut = nn.Sequential(\n",
        "                nn.Conv2d(in_channels, out_channels * BasicBlock.expansion, kernel_size=1, stride=stride, bias=False),\n",
        "                nn.BatchNorm2d(out_channels * BasicBlock.expansion)\n",
        "            )\n",
        "\n",
        "    def forward(self, x):\n",
        "        return nn.ReLU(inplace=True)(self.residual_function(x) + self.shortcut(x))\n",
        "\n",
        "class BottleNeck(nn.Module):\n",
        "    \"\"\"Residual block for resnet over 50 layers\n",
        "    \"\"\"\n",
        "    expansion = 4\n",
        "    def __init__(self, in_channels, out_channels, stride=1):\n",
        "        super().__init__()\n",
        "        self.residual_function = nn.Sequential(\n",
        "            nn.Conv2d(in_channels, out_channels, kernel_size=1, bias=False),\n",
        "            nn.BatchNorm2d(out_channels),\n",
        "            nn.ReLU(inplace=True),\n",
        "            nn.Conv2d(out_channels, out_channels, stride=stride, kernel_size=3, padding=1, bias=False),\n",
        "            nn.BatchNorm2d(out_channels),\n",
        "            nn.ReLU(inplace=True),\n",
        "            nn.Conv2d(out_channels, out_channels * BottleNeck.expansion, kernel_size=1, bias=False),\n",
        "            nn.BatchNorm2d(out_channels * BottleNeck.expansion),\n",
        "        )\n",
        "\n",
        "        self.shortcut = nn.Sequential()\n",
        "\n",
        "        if stride != 1 or in_channels != out_channels * BottleNeck.expansion:\n",
        "            self.shortcut = nn.Sequential(\n",
        "                nn.Conv2d(in_channels, out_channels * BottleNeck.expansion, stride=stride, kernel_size=1, bias=False),\n",
        "                nn.BatchNorm2d(out_channels * BottleNeck.expansion)\n",
        "            )\n",
        "\n",
        "    def forward(self, x):\n",
        "        return nn.ReLU(inplace=True)(self.residual_function(x) + self.shortcut(x))\n",
        "\n",
        "class ResNet(nn.Module):\n",
        "\n",
        "    def __init__(self, block, num_block, num_classes=100):\n",
        "        super().__init__()\n",
        "\n",
        "        self.in_channels = 64\n",
        "\n",
        "        self.conv1 = nn.Sequential(\n",
        "            nn.Conv2d(3, 64, kernel_size=3, padding=1, bias=False),\n",
        "            nn.BatchNorm2d(64),\n",
        "            nn.ReLU(inplace=True))\n",
        "        #we use a different inputsize than the original paper\n",
        "        #so conv2_x's stride is 1\n",
        "        self.conv2_x = self._make_layer(block, 64, num_block[0], 1)\n",
        "        self.conv3_x = self._make_layer(block, 128, num_block[1], 2)\n",
        "        self.conv4_x = self._make_layer(block, 256, num_block[2], 2)\n",
        "        self.conv5_x = self._make_layer(block, 512, num_block[3], 2)\n",
        "        self.avg_pool = nn.AdaptiveAvgPool2d((1, 1))\n",
        "        self.fc = nn.Linear(512 * block.expansion, num_classes)\n",
        "\n",
        "    def _make_layer(self, block, out_channels, num_blocks, stride):\n",
        "        \"\"\"make resnet layers(by layer i didnt mean this 'layer' was the\n",
        "        same as a neuron netowork layer, ex. conv layer), one layer may\n",
        "        contain more than one residual block\n",
        "        Args:\n",
        "            block: block type, basic block or bottle neck block\n",
        "            out_channels: output depth channel number of this layer\n",
        "            num_blocks: how many blocks per layer\n",
        "            stride: the stride of the first block of this layer\n",
        "        Return:\n",
        "            return a resnet layer\n",
        "        \"\"\"\n",
        "\n",
        "        # we have num_block blocks per layer, the first block\n",
        "        # could be 1 or 2, other blocks would always be 1\n",
        "        strides = [stride] + [1] * (num_blocks - 1)\n",
        "        layers = []\n",
        "        for stride in strides:\n",
        "            layers.append(block(self.in_channels, out_channels, stride))\n",
        "            self.in_channels = out_channels * block.expansion\n",
        "\n",
        "        return nn.Sequential(*layers)\n",
        "\n",
        "    def forward(self, x):\n",
        "        output = self.conv1(x)\n",
        "        output = self.conv2_x(output)\n",
        "        output = self.conv3_x(output)\n",
        "        output = self.conv4_x(output)\n",
        "        output = self.conv5_x(output)\n",
        "        output = self.avg_pool(output)\n",
        "        output = output.view(output.size(0), -1)\n",
        "        output = self.fc(output)\n",
        "\n",
        "        return output\n",
        "\n",
        "def resnet18():\n",
        "    \"\"\" return a ResNet 18 object\n",
        "    \"\"\"\n",
        "    return ResNet(BasicBlock, [2, 2, 2, 2])\n",
        "\n",
        "def resnet34():\n",
        "    \"\"\" return a ResNet 34 object\n",
        "    \"\"\"\n",
        "    return ResNet(BasicBlock, [3, 4, 6, 3])\n",
        "\n",
        "def resnet50():\n",
        "    \"\"\" return a ResNet 50 object\n",
        "    \"\"\"\n",
        "    return ResNet(BottleNeck, [3, 4, 6, 3])\n",
        "\n",
        "def resnet101():\n",
        "    \"\"\" return a ResNet 101 object\n",
        "    \"\"\"\n",
        "    return ResNet(BottleNeck, [3, 4, 23, 3])\n",
        "\n",
        "def resnet152():\n",
        "    \"\"\" return a ResNet 152 object\n",
        "    \"\"\"\n",
        "    return ResNet(BottleNeck, [3, 8, 36, 3])\n"
      ]
    },
    {
      "cell_type": "markdown",
      "metadata": {
        "id": "yKE196E4CCro"
      },
      "source": [
        "## prepare data"
      ]
    },
    {
      "cell_type": "markdown",
      "metadata": {
        "id": "BY_cG-EZCL5Q"
      },
      "source": [
        "### classes"
      ]
    },
    {
      "cell_type": "code",
      "execution_count": 2,
      "metadata": {
        "id": "Pw_GKPHcCIHm"
      },
      "outputs": [],
      "source": [
        "super_class_names = [\n",
        "  'aquatic mammals',  # 0：水生哺乳類\n",
        "  'fish',  # 1：魚\n",
        "  'flowers',  # ：花\n",
        "  'food containers',  # 3：食品容器\n",
        "  'fruit and vegetables',  # 4：果物と野菜\n",
        "  'household electrical devices',  # 5：家電\n",
        "  'household furniture',  # 6：家具\n",
        "  'insects',  # 7：昆虫\n",
        "  'large carnivores',  # 8：大型の肉食動物\n",
        "  'large man-made outdoor things',  # 9：大型の建造物\n",
        "  'large natural outdoor scenes',  # 10：大自然の風景\n",
        "  'large omnivores and herbivores',  # 11：大型の雑食動物と草食動物\n",
        "  'medium-sized mammals',  # 12：中型の哺乳類\n",
        "  'non-insect invertebrates',  # 13：昆虫ではない無脊椎動物\n",
        "  'people',  # 14：人\n",
        "  'reptiles',  # 15：爬虫類\n",
        "  'small mammals',  # 16：小型の哺乳類\n",
        "  'trees',  # 17：木\n",
        "  'vehicles 1',  # 18：車両1\n",
        "  'vehicles 2',  # 19：車両2\n",
        "]\n",
        "\n",
        "class_names = [\n",
        "  'apples',  # 0：りんご\n",
        "  'aquarium fish',  # 1：観賞魚\n",
        "  'baby',  # 2：赤ちゃん\n",
        "  'bear',  # 3：クマ\n",
        "  'beaver',  # 4：ビーバー\n",
        "  'bed',  # 5：ベッド\n",
        "  'bee',  # 6：蜂\n",
        "  'beetle',  # 7：カブトムシ\n",
        "  'bicycle',  # 8：自転車\n",
        "  'bottles',  # 9：ボトル\n",
        "  'bowls',  # 10：ボウル\n",
        "  'boy',  # 11：少年\n",
        "  'bridge',  # 12：橋\n",
        "  'bus',  # 13：バス\n",
        "  'butterfly',  # 14：蝶\n",
        "  'camel',  # 15：ラクダ\n",
        "  'cans',  # 16：缶\n",
        "  'castle',  # 17：城\n",
        "  'caterpillar',  # 18：毛虫\n",
        "  'cattle',  # 19：牛\n",
        "  'chair',  # 20：椅子\n",
        "  'chimpanzee',  # 21：チンパンジー\n",
        "  'clock',  # 22：時計\n",
        "  'cloud',  # 23：雲\n",
        "  'cockroach',  # 24：ゴキブリ\n",
        "  'couch',  # 25：ソファー\n",
        "  'crab',  # 26：カニ\n",
        "  'crocodile',  # 27：ワニ\n",
        "  'cups',  # 28：カップ\n",
        "  'dinosaur',  # 29：恐竜\n",
        "  'dolphin',  # 30：イルカ\n",
        "  'elephant',  # 31：象\n",
        "  'flatfish',  # 32：ヒラメ\n",
        "  'forest',  # 33：森\n",
        "  'fox',  # 34：キツネ\n",
        "  'girl',  # 35：少女\n",
        "  'hamster',  # 36：ハムスター\n",
        "  'house',  # 37：家\n",
        "  'kangaroo',  # 38：カンガルー\n",
        "  'computer keyboard',  # 39：コンピューターのキーボード\n",
        "  'lamp',  # 40：ランプ\n",
        "  'lawn-mower',  # 41：芝刈り機\n",
        "  'leopard',  # 42：ヒョウ\n",
        "  'lion',  # 43：ライオン\n",
        "  'lizard',  # 44：トカゲ\n",
        "  'lobster',  # 45：ロブスター\n",
        "  'man',  # 46：成人男性\n",
        "  'maple',  # 47：もみじ\n",
        "  'motorcycle',  # 48：オートバイ\n",
        "  'mountain',  # 49：山\n",
        "  'mouse',  # 50：ねずみ\n",
        "  'mushrooms',  # 51：きのこ\n",
        "  'oak',  # 52：オーク\n",
        "  'oranges',  # 53：オレンジ\n",
        "  'orchids',  # 54：蘭\n",
        "  'otter',  # 55：カワウソ\n",
        "  'palm',  # 56：ヤシ\n",
        "  'pears',  # 57：洋ナシ\n",
        "  'pickup truck',  # 58：ピックアップトラック\n",
        "  'pine',  # 59：松\n",
        "  'plain',  # 60：平野\n",
        "  'plates',  # 61：皿\n",
        "  'poppies',  # 62：ポピー\n",
        "  'porcupine',  # 63：ヤマアラシ\n",
        "  'possum',  # 64：フクロネズミ\n",
        "  'rabbit',  # 65：ウサギ\n",
        "  'raccoon',  # 66：アライグマ\n",
        "  'ray',  # 67：エイ\n",
        "  'road',  # 68：道路\n",
        "  'rocket',  # 69：ロケット\n",
        "  'roses',  # 70：バラ\n",
        "  'sea',  # 71：海\n",
        "  'seal',  # 72：アザラシ\n",
        "  'shark',  # 73：サメ\n",
        "  'shrew',  # 74：トガリネズミ\n",
        "  'skunk',  # 75：スカンク\n",
        "  'skyscraper',  # 76：超高層ビル\n",
        "  'snail',  # 77：カタツムリ\n",
        "  'snake',  # 78：ヘビ\n",
        "  'spider',  # 79：クモ\n",
        "  'squirrel',  # 80：リス\n",
        "  'streetcar',  # 81：路面電車\n",
        "  'sunflowers',  # 82：ひまわり\n",
        "  'sweet peppers',  # 83：パプリカ\n",
        "  'table',  # 84：テーブル\n",
        "  'tank',  # 85：タンク\n",
        "  'telephone',  # 86：電話\n",
        "  'television',  # 87：テレビ\n",
        "  'tiger',  # 88：トラ\n",
        "  'tractor',  # 89：トラクター\n",
        "  'train',  # 90：電車\n",
        "  'trout',  # 91：マス\n",
        "  'tulips',  # 92：チューリップ\n",
        "  'turtle',  # 93：カメ\n",
        "  'wardrobe',  # 94：ワードローブ\n",
        "  'whale',  # 95：クジラ\n",
        "  'willow',  # 96：柳\n",
        "  'wolf',  # 97：オオカミ\n",
        "  'woman',  # 98：成人女性\n",
        "  'worm',  # 99：ミミズ\n",
        "]"
      ]
    },
    {
      "cell_type": "markdown",
      "metadata": {
        "id": "IDCeqB718fQH"
      },
      "source": [
        "### pare GPU"
      ]
    },
    {
      "cell_type": "code",
      "execution_count": 7,
      "metadata": {
        "colab": {
          "base_uri": "https://localhost:8080/"
        },
        "id": "KSe9iTI28fQH",
        "outputId": "e5b344dd-7f2b-4e73-8fee-4738767501a6"
      },
      "outputs": [
        {
          "output_type": "stream",
          "name": "stdout",
          "text": [
            "True\n",
            "1\n",
            "Tue Feb 21 07:52:10 2023       \n",
            "+-----------------------------------------------------------------------------+\n",
            "| NVIDIA-SMI 510.47.03    Driver Version: 510.47.03    CUDA Version: 11.6     |\n",
            "|-------------------------------+----------------------+----------------------+\n",
            "| GPU  Name        Persistence-M| Bus-Id        Disp.A | Volatile Uncorr. ECC |\n",
            "| Fan  Temp  Perf  Pwr:Usage/Cap|         Memory-Usage | GPU-Util  Compute M. |\n",
            "|                               |                      |               MIG M. |\n",
            "|===============================+======================+======================|\n",
            "|   0  Tesla T4            Off  | 00000000:00:04.0 Off |                    0 |\n",
            "| N/A   60C    P8    13W /  70W |      3MiB / 15360MiB |      0%      Default |\n",
            "|                               |                      |                  N/A |\n",
            "+-------------------------------+----------------------+----------------------+\n",
            "                                                                               \n",
            "+-----------------------------------------------------------------------------+\n",
            "| Processes:                                                                  |\n",
            "|  GPU   GI   CI        PID   Type   Process name                  GPU Memory |\n",
            "|        ID   ID                                                   Usage      |\n",
            "|=============================================================================|\n",
            "|  No running processes found                                                 |\n",
            "+-----------------------------------------------------------------------------+\n",
            "Running on the GPU\n"
          ]
        }
      ],
      "source": [
        "print(torch.cuda.is_available())\n",
        "print(torch.cuda.device_count())\n",
        "!nvidia-smi\n",
        "\n",
        "if torch.cuda.is_available():\n",
        "    device = torch.device(\"cuda:0\")  # you can continue going on here, like cuda:1 cuda:2....etc. \n",
        "    print(\"Running on the GPU\")\n",
        "else:\n",
        "    device = torch.device(\"cpu\")\n",
        "    print(\"Running on the CPU\")"
      ]
    },
    {
      "cell_type": "markdown",
      "metadata": {
        "id": "fS1p54P5COHG"
      },
      "source": [
        "### datasets"
      ]
    },
    {
      "cell_type": "code",
      "execution_count": 42,
      "metadata": {
        "colab": {
          "base_uri": "https://localhost:8080/",
          "height": 355
        },
        "id": "2yXGi7AluHKb",
        "outputId": "2ac5e40f-c35f-499e-b414-c13edd541fb7"
      },
      "outputs": [
        {
          "output_type": "stream",
          "name": "stdout",
          "text": [
            "Files already downloaded and verified\n",
            "Files already downloaded and verified\n",
            "torch.Size([3, 32, 32])\n",
            "sea\n"
          ]
        },
        {
          "output_type": "execute_result",
          "data": {
            "text/plain": [
              "<matplotlib.image.AxesImage at 0x7f484debfa30>"
            ]
          },
          "metadata": {},
          "execution_count": 42
        },
        {
          "output_type": "display_data",
          "data": {
            "text/plain": [
              "<Figure size 432x288 with 1 Axes>"
            ],
            "image/png": "[encoded data removed]"
          },
          "metadata": {
            "needs_background": "light"
          }
        }
      ],
      "source": [
        "import torchvision.datasets as datasets\n",
        "import torch.nn.functional as F\n",
        "import torch.optim as optim\n",
        "from torchvision import datasets, transforms\n",
        "import matplotlib.pyplot as plt\n",
        "\n",
        "import numpy as np\n",
        "\n",
        "train_loader = torch.utils.data.DataLoader(\n",
        "        dataset=datasets.CIFAR100(\n",
        "        root='./data',\n",
        "        train=True,\n",
        "        transform=transforms.ToTensor(),\n",
        "        download=True,\n",
        "    ),\n",
        "    batch_size=128,\n",
        "    shuffle=True,\n",
        ")\n",
        "\n",
        "test_loader = torch.utils.data.DataLoader(\n",
        "        dataset=datasets.CIFAR100(\n",
        "        root='./data',\n",
        "        train=False,\n",
        "        transform=transforms.ToTensor(),\n",
        "        download=True,\n",
        "    ),\n",
        "    batch_size=128,\n",
        "    shuffle=False,\n",
        ")\n",
        "\n",
        "model = resnet101().to(device)\n",
        "\n",
        "# show a example data\n",
        "index = 10\n",
        "\n",
        "dataiter = iter(test_loader)\n",
        "(img, label) = next(dataiter)\n",
        "\n",
        "print(img[0].shape)\n",
        "print(class_names[label[index].item()])\n",
        "plt.imshow(torch.rot90(img[index].T, 3))"
      ]
    },
    {
      "cell_type": "markdown",
      "metadata": {
        "id": "QqS6n5LeGWU6"
      },
      "source": [
        "## define hyperparameter"
      ]
    },
    {
      "cell_type": "code",
      "source": [
        "PATH = './model'\n",
        "model.load_state_dict(torch.load(PATH))"
      ],
      "metadata": {
        "colab": {
          "base_uri": "https://localhost:8080/"
        },
        "id": "1-PX0VvrH9qF",
        "outputId": "4baac9e0-11f7-47e3-9082-3118ede1e993"
      },
      "execution_count": 45,
      "outputs": [
        {
          "output_type": "execute_result",
          "data": {
            "text/plain": [
              "<All keys matched successfully>"
            ]
          },
          "metadata": {},
          "execution_count": 45
        }
      ]
    },
    {
      "cell_type": "markdown",
      "source": [
        "remember to reset learning rate  \n",
        "\n",
        "##### loss: \n",
        "3.4 -> 1.7 ->\n",
        "\n",
        "##### lr:\n",
        "0.01 -> 0.003"
      ],
      "metadata": {
        "id": "vxHb2hk9QTWm"
      }
    },
    {
      "cell_type": "code",
      "execution_count": 46,
      "metadata": {
        "colab": {
          "base_uri": "https://localhost:8080/"
        },
        "id": "-0oxnVmiGcOM",
        "outputId": "69bb4427-33e2-4787-c58a-0558ac6208d2"
      },
      "outputs": [
        {
          "output_type": "stream",
          "name": "stdout",
          "text": [
            "epoch of mini-batch:  0 , loss:  1.7193660736083984\n",
            "epoch of mini-batch:  100 , loss:  1.2507575750350952\n",
            "epoch of mini-batch:  200 , loss:  1.1393884420394897\n",
            "epoch of mini-batch:  300 , loss:  1.2014245986938477\n",
            "epoch of mini-batch:  0 , loss:  0.8105033040046692\n",
            "epoch of mini-batch:  100 , loss:  0.7919186949729919\n",
            "epoch of mini-batch:  200 , loss:  0.9615427255630493\n",
            "epoch of mini-batch:  300 , loss:  0.9199841618537903\n",
            "epoch of mini-batch:  0 , loss:  0.5366057753562927\n",
            "epoch of mini-batch:  100 , loss:  0.5444014072418213\n",
            "epoch of mini-batch:  200 , loss:  0.5994623303413391\n",
            "epoch of mini-batch:  300 , loss:  0.5255579352378845\n",
            "epoch of mini-batch:  0 , loss:  0.34390830993652344\n",
            "epoch of mini-batch:  100 , loss:  0.3717098832130432\n",
            "epoch of mini-batch:  200 , loss:  0.22656801342964172\n",
            "epoch of mini-batch:  300 , loss:  0.2889983355998993\n",
            "epoch of mini-batch:  0 , loss:  0.215179905295372\n",
            "epoch of mini-batch:  100 , loss:  0.1777551919221878\n",
            "epoch of mini-batch:  200 , loss:  0.16157309710979462\n",
            "epoch of mini-batch:  300 , loss:  0.12466275691986084\n"
          ]
        }
      ],
      "source": [
        "learning_rate = 0.003\n",
        "num_epoch = 5\n",
        "momentum = 0.9\n",
        "\n",
        "loss_function = nn.CrossEntropyLoss()\n",
        "\n",
        "optimizer = optim.SGD(model.parameters(), lr=learning_rate, momentum=momentum, weight_decay=5e-4)\n",
        "\n",
        "for epoch in range(num_epoch):\n",
        "  for i, (images, labels) in enumerate(train_loader):\n",
        "    images = images.cuda()\n",
        "    labels = labels.cuda()\n",
        "    outputs = model(images)\n",
        "\n",
        "    loss = loss_function(outputs, labels)\n",
        "\n",
        "    optimizer.zero_grad()\n",
        "    loss.backward()\n",
        "    optimizer.step()\n",
        "\n",
        "    if i % 100 == 0:    \n",
        "      print('epoch of mini-batch: ', i, ', loss: ', loss.item())"
      ]
    },
    {
      "cell_type": "code",
      "source": [
        "torch.save(model.state_dict(), PATH)"
      ],
      "metadata": {
        "id": "CVlp3_BYGlmV"
      },
      "execution_count": 47,
      "outputs": []
    },
    {
      "cell_type": "markdown",
      "metadata": {
        "id": "gImCMDTXMOdv"
      },
      "source": [
        "## test"
      ]
    },
    {
      "cell_type": "markdown",
      "source": [
        "### overall"
      ],
      "metadata": {
        "id": "87i80ioeGRxp"
      }
    },
    {
      "cell_type": "code",
      "execution_count": 48,
      "metadata": {
        "id": "-lmmAJGTMPTv",
        "colab": {
          "base_uri": "https://localhost:8080/"
        },
        "outputId": "5873bd87-a5c0-4e76-fb8c-08ab3df08d60"
      },
      "outputs": [
        {
          "output_type": "stream",
          "name": "stdout",
          "text": [
            "acc:  46.15\n"
          ]
        }
      ],
      "source": [
        "with torch.no_grad():\n",
        "  n_correct = 0\n",
        "  n_samples = 0\n",
        "\n",
        "  for images, labels in test_loader:\n",
        "    images = images.cuda()\n",
        "    labels = labels.cuda()\n",
        "    outputs = model(images)\n",
        "\n",
        "    _, predictions = torch.max(outputs, 1)\n",
        "    n_samples += labels.shape[0]\n",
        "    n_correct += (predictions == labels).sum().item()\n",
        "\n",
        "acc = 100.0 * n_correct / n_samples\n",
        "print('acc: ', acc)"
      ]
    },
    {
      "cell_type": "markdown",
      "source": [
        "### sample"
      ],
      "metadata": {
        "id": "GqSoumi-GUQC"
      }
    },
    {
      "cell_type": "code",
      "source": [
        "# test a example data\n",
        "index = 99\n",
        "\n",
        "dataiter = iter(test_loader)\n",
        "(img, label) = next(dataiter)\n",
        "\n",
        "plt.imshow(torch.rot90(img[index].T, 3))\n",
        "\n",
        "with torch.no_grad():\n",
        "  img = img.cuda()\n",
        "  output = model(img)\n",
        "\n",
        "  _, prediction = torch.max(output, 1)\n",
        "\n",
        "  print('label is: ', class_names[label[index].item()])\n",
        "  print('prediction is: ', class_names[prediction[index]])"
      ],
      "metadata": {
        "colab": {
          "base_uri": "https://localhost:8080/",
          "height": 302
        },
        "id": "x_ZLox0JGXYb",
        "outputId": "1c950b8b-70a0-46dc-f7a6-ca3ef9e41c17"
      },
      "execution_count": 56,
      "outputs": [
        {
          "output_type": "stream",
          "name": "stdout",
          "text": [
            "label is:  girl\n",
            "prediction is:  boy\n"
          ]
        },
        {
          "output_type": "display_data",
          "data": {
            "text/plain": [
              "<Figure size 432x288 with 1 Axes>"
            ],
            "image/png": "[encoded data removed]"
          },
          "metadata": {
            "needs_background": "light"
          }
        }
      ]
    },
    {
      "cell_type": "markdown",
      "source": [
        "## save"
      ],
      "metadata": {
        "id": "8aRZr26n_Jgp"
      }
    },
    {
      "cell_type": "code",
      "source": [],
      "metadata": {
        "id": "flFgMhBi_K7W"
      },
      "execution_count": null,
      "outputs": []
    }
  ],
  "metadata": {
    "colab": {
      "collapsed_sections": [
        "6T5Yi112B5Rr",
        "BY_cG-EZCL5Q"
      ],
      "provenance": []
    },
    "kernelspec": {
      "display_name": "Python 3",
      "name": "python3"
    },
    "language_info": {
      "name": "python"
    },
    "accelerator": "GPU",
    "gpuClass": "standard"
  },
  "nbformat": 4,
  "nbformat_minor": 0
}
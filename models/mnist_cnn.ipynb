{
  "nbformat": 4,
  "nbformat_minor": 0,
  "metadata": {
    "colab": {
      "provenance": [],
      "toc_visible": true
    },
    "kernelspec": {
      "name": "python3",
      "display_name": "Python 3"
    },
    "language_info": {
      "name": "python"
    }
  },
  "cells": [
    {
      "cell_type": "code",
      "source": [
        "import numpy as np\n",
        "import torch \n",
        "from torch import nn\n",
        "from PIL import Image\n",
        "import matplotlib.pyplot as plt\n",
        "import os\n",
        "from torchvision import datasets, transforms,utils"
      ],
      "metadata": {
        "id": "mCJ7Gtf-GjtZ"
      },
      "execution_count": 50,
      "outputs": []
    },
    {
      "cell_type": "code",
      "source": [
        "transform = transforms.Compose([transforms.ToTensor(),\n",
        "                               transforms.Normalize(mean=[0.5],std=[0.5])])\n",
        "\n",
        "train_data = datasets.MNIST(root = \"./data/\",\n",
        "                            transform=transform,\n",
        "                            train = True,\n",
        "                            download = True)\n",
        "\n",
        "test_data = datasets.MNIST(root=\"./data/\",\n",
        "                           transform = transform,\n",
        "                           train = False)\n",
        "\n",
        "train_loader = torch.utils.data.DataLoader(train_data,batch_size=64,\n",
        "                                          shuffle=True,num_workers=2)\n",
        "\n",
        "test_loader = torch.utils.data.DataLoader(test_data,batch_size=64,\n",
        "                                          shuffle=True,num_workers=2)"
      ],
      "metadata": {
        "id": "pcC0FWLrGx0n"
      },
      "execution_count": 53,
      "outputs": []
    },
    {
      "cell_type": "code",
      "source": [
        "import torch.nn.functional as F\n",
        "class CNN(nn.Module):\n",
        "    def __init__(self):\n",
        "        super(CNN,self).__init__()\n",
        "        self.conv1 = nn.Conv2d(1, 32, kernel_size=3, stride=1, padding=1)\n",
        "        self.pool = nn.MaxPool2d(2,2)\n",
        "        self.conv2 = nn.Conv2d(32, 64, kernel_size=3, stride=1, padding=1)\n",
        "        self.fc1 = nn.Linear(64 * 7 * 7, 1024)#两个池化，所以是7*7而不是14*14\n",
        "        self.fc2 = nn.Linear(1024, 512)\n",
        "        self.fc3 = nn.Linear(512, 10)\n",
        "#       self.dp = nn.Dropout(p=0.5)\n",
        "\n",
        "    def forward(self,x):\n",
        "        x = self.pool(F.relu(self.conv1(x)))\n",
        "        x = self.pool(F.relu(self.conv2(x)))\n",
        "\n",
        "        x = x.view(-1, 64 * 7* 7)#将数据平整为一维的 \n",
        "        x = F.relu(self.fc1(x))\n",
        "#       x = self.fc3(x)\n",
        "#       self.dp(x)\n",
        "        x = F.relu(self.fc2(x))   \n",
        "        x = self.fc3(x)  \n",
        "#       x = F.log_softmax(x,dim=1) NLLLoss()才需要，交叉熵不需要\n",
        "        return x\n",
        "\n",
        "net = CNN()"
      ],
      "metadata": {
        "id": "UUaS8H2XHHYE"
      },
      "execution_count": 54,
      "outputs": []
    },
    {
      "cell_type": "code",
      "source": [
        "import torch.optim as optim\n",
        "\n",
        "criterion = nn.CrossEntropyLoss()\n",
        "optimizer = optim.SGD(net.parameters(), lr=0.001, momentum=0.9)\n",
        "#也可以选择Adam优化方法\n",
        "# optimizer = torch.optim.Adam(net.parameters(),lr=1e-2)"
      ],
      "metadata": {
        "id": "cWbFcnrPHuj4"
      },
      "execution_count": 55,
      "outputs": []
    },
    {
      "cell_type": "code",
      "source": [
        "train_accs = []\n",
        "train_loss = []\n",
        "test_accs = []\n",
        "device = torch.device(\"cuda:0\" if torch.cuda.is_available() else \"cpu\")\n",
        "net = net.to(device)\n",
        "for epoch in range(3):\n",
        "    running_loss = 0.0\n",
        "    for i,data in enumerate(train_loader,0):#0是下标起始位置默认为0\n",
        "        # data 的格式[[inputs, labels]]       \n",
        "#         inputs,labels = data\n",
        "        inputs,labels = data[0].to(device), data[1].to(device)\n",
        "        #初始为0，清除上个batch的梯度信息\n",
        "        optimizer.zero_grad()         \n",
        "\n",
        "        #前向+后向+优化     \n",
        "        outputs = net(inputs)\n",
        "        loss = criterion(outputs,labels)\n",
        "        loss.backward()\n",
        "        optimizer.step()\n",
        "\n",
        "        # loss 的输出，每个一百个batch输出，平均的loss\n",
        "        running_loss += loss.item()\n",
        "        if i%100 == 99:\n",
        "            print('[%d,%5d] loss :%.3f' %\n",
        "                 (epoch+1,i+1,running_loss/100))\n",
        "            running_loss = 0.0\n",
        "        train_loss.append(loss.item())\n",
        "\n",
        "        # 训练曲线的绘制 一个batch中的准确率\n",
        "        correct = 0\n",
        "        total = 0\n",
        "        _, predicted = torch.max(outputs.data, 1)\n",
        "        total = labels.size(0)# labels 的长度\n",
        "        correct = (predicted == labels).sum().item() # 预测正确的数目\n",
        "        train_accs.append(100*correct/total)\n",
        "\n",
        "print('Finished Training')"
      ],
      "metadata": {
        "colab": {
          "base_uri": "https://localhost:8080/"
        },
        "id": "xkjRd22zHx1K",
        "outputId": "13c51e55-484e-4cde-c85e-6d29da97b5ba"
      },
      "execution_count": 97,
      "outputs": [
        {
          "output_type": "stream",
          "name": "stdout",
          "text": [
            "[1,  100] loss :2.293\n",
            "[1,  200] loss :2.267\n",
            "[1,  300] loss :2.213\n",
            "[1,  400] loss :2.061\n",
            "[1,  500] loss :1.544\n",
            "[1,  600] loss :0.870\n",
            "[1,  700] loss :0.567\n",
            "[1,  800] loss :0.439\n",
            "[1,  900] loss :0.386\n",
            "[2,  100] loss :0.332\n",
            "[2,  200] loss :0.314\n",
            "[2,  300] loss :0.289\n",
            "[2,  400] loss :0.260\n",
            "[2,  500] loss :0.240\n",
            "[2,  600] loss :0.228\n",
            "[2,  700] loss :0.228\n",
            "[2,  800] loss :0.211\n",
            "[2,  900] loss :0.185\n",
            "[3,  100] loss :0.176\n",
            "[3,  200] loss :0.153\n",
            "[3,  300] loss :0.174\n",
            "[3,  400] loss :0.161\n",
            "[3,  500] loss :0.139\n",
            "[3,  600] loss :0.137\n",
            "[3,  700] loss :0.132\n",
            "[3,  800] loss :0.145\n",
            "[3,  900] loss :0.126\n",
            "Finished Training\n"
          ]
        }
      ]
    },
    {
      "cell_type": "code",
      "source": [
        "PATH = './mnist_net.pth'\n",
        "torch.save(net.state_dict(), PATH)"
      ],
      "metadata": {
        "id": "OU0g5Q7_OEV-"
      },
      "execution_count": 98,
      "outputs": []
    },
    {
      "cell_type": "code",
      "source": [
        "test_net = CNN()\n",
        "test_net.load_state_dict(torch.load(PATH))\n",
        "\n",
        "def print_img(img):\n",
        "  grid = utils.make_grid(img)\n",
        "  grid = grid.numpy().transpose(1,2,0) \n",
        "  std = [0.5]\n",
        "  mean = [0.5]\n",
        "  grid = grid * std + mean\n",
        "  plt.imshow(grid)\n",
        "  plt.show()\n",
        "\n",
        "index = 9077\n",
        "with torch.no_grad():\n",
        "  img, label = train_data[index]\n",
        "  output = test_net(img)\n",
        "  _, predicted = torch.max(output, dim = 1)\n",
        "  print(\"the munber is: \", str(label))\n",
        "  print(\"predict is: \", predicted[0])\n",
        "  print_img(img)"
      ],
      "metadata": {
        "colab": {
          "base_uri": "https://localhost:8080/",
          "height": 302
        },
        "id": "dT8iVvCwLvbF",
        "outputId": "4e47a421-20f5-48fd-d1eb-6b3a809863c3"
      },
      "execution_count": 119,
      "outputs": [
        {
          "output_type": "stream",
          "name": "stdout",
          "text": [
            "the munber is:  7\n",
            "predict is:  tensor(7)\n"
          ]
        },
        {
          "output_type": "display_data",
          "data": {
            "text/plain": [
              "<Figure size 432x288 with 1 Axes>"
            ],
            "image/png": "[encoded data removed]"
          },
          "metadata": {
            "needs_background": "light"
          }
        }
      ]
    },
    {
      "cell_type": "code",
      "source": [
        "class_correct = list(0. for i in range(10))\n",
        "class_total = list(0. for i in range(10))\n",
        "with torch.no_grad():\n",
        "    for data in test_loader:\n",
        "        images, labels = data\n",
        "        outputs = test_net(images)\n",
        "        _, predicted = torch.max(outputs, 1)\n",
        "        c = (predicted == labels)\n",
        "#         print(predicted == labels)\n",
        "        for i in range(10):\n",
        "            label = labels[i]\n",
        "            class_correct[label] += c[i].item()\n",
        "            class_total[label] += 1\n",
        "\n",
        "\n",
        "for i in range(10):\n",
        "    print('Accuracy of %d : %2d %%' % (\n",
        "        i, 100 * class_correct[i] / class_total[i]))"
      ],
      "metadata": {
        "colab": {
          "base_uri": "https://localhost:8080/"
        },
        "id": "0naS_NzFVH-u",
        "outputId": "7945993c-38ab-4081-dfef-66851bc2e9ed"
      },
      "execution_count": 100,
      "outputs": [
        {
          "output_type": "stream",
          "name": "stdout",
          "text": [
            "Accuracy of 0 : 98 %\n",
            "Accuracy of 1 : 98 %\n",
            "Accuracy of 2 : 93 %\n",
            "Accuracy of 3 : 99 %\n",
            "Accuracy of 4 : 97 %\n",
            "Accuracy of 5 : 96 %\n",
            "Accuracy of 6 : 96 %\n",
            "Accuracy of 7 : 95 %\n",
            "Accuracy of 8 : 95 %\n",
            "Accuracy of 9 : 97 %\n"
          ]
        }
      ]
    }
  ]
}
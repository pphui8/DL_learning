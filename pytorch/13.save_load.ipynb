{
  "cells": [
    {
      "cell_type": "code",
      "source": [
        "import torch\n",
        "import torch.nn as nn"
      ],
      "metadata": {
        "id": "d2Np7JADDjpK"
      },
      "execution_count": 4,
      "outputs": []
    },
    {
      "cell_type": "markdown",
      "source": [
        "## save && load model\n",
        "\n",
        "1. ```torch.save(arg, PATH)```\n",
        "2. ```torch.load(PATH)```\n",
        "3. ```model.load_state_dict(arg)```\n",
        "\n",
        "> ```model.eval()``` sets the model in evaluation mode. When a model is in evaluation mode, some layers or operations may behave differently than they do during training.   \n",
        "It ensures that the model will produce consistent results when we use it to make predictions, and also sets the gradients to not be computed"
      ],
      "metadata": {
        "id": "5lfC2HrKDo0v"
      }
    },
    {
      "cell_type": "code",
      "source": [
        "class NeuralNet(nn.Module):\n",
        "  def __init__(self):\n",
        "    pass\n",
        "  \n",
        "  def forward(self):\n",
        "    pass\n",
        "\n",
        "model = NeuralNet()\n",
        "PATH = './data'\n",
        "FILE = 'model.pth'"
      ],
      "metadata": {
        "id": "yaKl_WiXDwEu"
      },
      "execution_count": null,
      "outputs": []
    },
    {
      "cell_type": "markdown",
      "source": [
        "### prefer approach\n",
        "\n",
        "This saves the state dictionary of the model, which contains all the learnable parameters of the model"
      ],
      "metadata": {
        "id": "azKj0WEOHnC3"
      }
    },
    {
      "cell_type": "code",
      "source": [
        "# save\n",
        "torch.save(model.state_dict(), PATH)\n",
        "\n",
        "# load\n",
        "model = model.load_state_dict(torch.load(PATH))\n",
        "model.eval()"
      ],
      "metadata": {
        "id": "76fa3hR6HrIb"
      },
      "execution_count": null,
      "outputs": []
    },
    {
      "cell_type": "markdown",
      "source": [
        "### save entire model\n",
        "This saves the entire model, including the architecture, parameters, and any additional information defined by the model"
      ],
      "metadata": {
        "id": "PDgy2zKGH4yb"
      }
    },
    {
      "cell_type": "code",
      "source": [
        "# save\n",
        "torch.save(model, PATH)\n",
        "\n",
        "# load\n",
        "model = torch.load(FILE)\n",
        "model.eval()"
      ],
      "metadata": {
        "id": "pHCkoTXcIB4g"
      },
      "execution_count": null,
      "outputs": []
    },
    {
      "cell_type": "markdown",
      "source": [
        "### save for common using\n",
        "This exports the model to the ONNX format, which is a standardized format for exchanging deep learning models between frameworks."
      ],
      "metadata": {
        "id": "6mOuOjVUIOfo"
      }
    },
    {
      "cell_type": "code",
      "source": [
        "import onnx\n",
        "\n",
        "# save\n",
        "torch.onnx.export(model, inputs, PATH)\n",
        "\n",
        "# load\n",
        "model = onnx_to_pytorch(onnx.load(\"model.onnx\"))\n",
        "model.eval()"
      ],
      "metadata": {
        "id": "t99Rmk6rIQDq"
      },
      "execution_count": null,
      "outputs": []
    }
  ],
  "metadata": {
    "colab": {
      "provenance": []
    },
    "kernelspec": {
      "display_name": "Python 3",
      "name": "python3"
    },
    "language_info": {
      "name": "python"
    }
  },
  "nbformat": 4,
  "nbformat_minor": 0
}
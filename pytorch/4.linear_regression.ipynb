{
  "cells": [
    {
      "cell_type": "code",
      "execution_count": 29,
      "metadata": {
        "id": "P7sp-6zu-anz"
      },
      "outputs": [],
      "source": [
        "import torch\n",
        "import torch.nn as nn\n",
        "import numpy as np\n",
        "from sklearn import datasets\n",
        "import matplotlib.pyplot as plt"
      ]
    },
    {
      "cell_type": "markdown",
      "source": [
        "1. design model (input size, output size)\n",
        "2. construct loss and optimizer\n",
        "3. training\n",
        "  - forward pass\n",
        "  - backward pass\n",
        "  - update"
      ],
      "metadata": {
        "id": "7sNwJPR1poox"
      }
    },
    {
      "cell_type": "code",
      "source": [
        "# prepare data\n",
        "X_numpy, y_numpy = datasets.make_regression(n_samples=300, n_features=1, noise=10, random_state=4)\n",
        "\n",
        "# cast to float tensor\n",
        "X = torch.from_numpy(X_numpy.astype(np.float32))\n",
        "y = torch.from_numpy(y_numpy.astype(np.float32))\n",
        "y = y.view(y.shape[0], 1)\n",
        "\n",
        "n_sanples, n_features = X.shape\n",
        "\n",
        "# 1. model\n",
        "input_size = n_features\n",
        "output_size = 1\n",
        "\n",
        "model = nn.Linear(input_size, output_size)\n",
        "\n",
        "# 2. loss\n",
        "learning_rate = 0.003\n",
        "\n",
        "loss_fn = nn.MSELoss()\n",
        "optimizer = torch.optim.SGD(model.parameters(), lr=learning_rate)\n",
        "\n",
        "# training\n",
        "for epoch in range(1000):\n",
        "  # forward propagation\n",
        "  y_pred = model(X)\n",
        "\n",
        "  # loss\n",
        "  # loss = loss_fn(y_pred, y)\n",
        "  loss = loss_fn(y, y_pred)\n",
        "\n",
        "  # back propagation\n",
        "  loss.backward()\n",
        "  optimizer.step()\n",
        "\n",
        "  optimizer.zero_grad()\n",
        "\n",
        "  if epoch % 100 == 0:\n",
        "    print(\"epoch: \", epoch, \"loss: \", loss.item())\n",
        "\n",
        "predicted = model(X).detach().numpy()\n",
        "\n",
        "plt.plot(X_numpy, y_numpy, 'ro')\n",
        "plt.plot(X_numpy, predicted, 'b')\n",
        "plt.show()"
      ],
      "metadata": {
        "colab": {
          "base_uri": "https://localhost:8080/",
          "height": 444
        },
        "id": "pDmWWGP8prKv",
        "outputId": "d76d2bb7-790c-4828-db7d-415f24edbb31"
      },
      "execution_count": 38,
      "outputs": [
        {
          "output_type": "stream",
          "name": "stdout",
          "text": [
            "epoch:  0 loss:  1443.3726806640625\n",
            "epoch:  100 loss:  498.3951110839844\n",
            "epoch:  200 loss:  214.65542602539062\n",
            "epoch:  300 loss:  128.66607666015625\n",
            "epoch:  400 loss:  102.36676025390625\n",
            "epoch:  500 loss:  94.25172424316406\n",
            "epoch:  600 loss:  91.72648620605469\n",
            "epoch:  700 loss:  90.93441772460938\n",
            "epoch:  800 loss:  90.68418884277344\n",
            "epoch:  900 loss:  90.60459899902344\n"
          ]
        },
        {
          "output_type": "display_data",
          "data": {
            "text/plain": [
              "<Figure size 432x288 with 1 Axes>"
            ],
            "image/png": "[encoded data removed]"
          },
          "metadata": {
            "needs_background": "light"
          }
        }
      ]
    }
  ],
  "metadata": {
    "colab": {
      "provenance": []
    },
    "kernelspec": {
      "display_name": "Python 3",
      "name": "python3"
    },
    "language_info": {
      "name": "python"
    }
  },
  "nbformat": 4,
  "nbformat_minor": 0
}

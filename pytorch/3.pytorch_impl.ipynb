{
  "cells": [
    {
      "cell_type": "code",
      "execution_count": 2,
      "metadata": {
        "id": "P7sp-6zu-anz"
      },
      "outputs": [],
      "source": [
        "import torch\n",
        "import numpy as np"
      ]
    },
    {
      "cell_type": "markdown",
      "source": [
        "## more advanced model\n",
        "- Prediction: manually\n",
        "- Gradients computation: Auto\n",
        "- Loss computation: Pytorch loss\n",
        "- Update: Pytorch Optimizer\n",
        "\n",
        "### remember:\n",
        "> ```\n",
        "> 1. design model (input size, output size)\n",
        "> 2. construct loss and optimizer\n",
        "> 3. training\n",
        ">   - forward pass\n",
        ">   - backward pass\n",
        ">   - update\n",
        "> ```"
      ],
      "metadata": {
        "id": "5AIL1Q5kf83H"
      }
    },
    {
      "cell_type": "code",
      "source": [
        "import torch.nn as nn\n",
        "\n",
        "X = torch.tensor([1, 2, 3, 4], dtype=torch.float64)\n",
        "Y = torch.tensor([2, 4, 6, 8], dtype=torch.float64)\n",
        "\n",
        "w = torch.tensor(0.0, dtype=torch.float64, requires_grad=True)\n",
        "\n",
        "def forward(x):\n",
        "  return w * x\n",
        "\n",
        "learning_rate = 0.01\n",
        "n_iters = 100\n",
        "\n",
        "loss = nn.MSELoss()\n",
        "optimizer = torch.optim.SGD([w], lr = learning_rate)  # stochastic gradient descent\n",
        "\n",
        "for epoch in range(n_iters):\n",
        "  y_pred = forward(X)\n",
        "\n",
        "  l = loss(Y, y_pred)\n",
        "\n",
        "  l.backward()  # dl / dw\n",
        "\n",
        "  optimizer.step()  # update\n",
        "\n",
        "  optimizer.zero_grad()  # set zero\n",
        "\n",
        "  if epoch % 10 == 0:\n",
        "    print(f'epoch {epoch + 1}: w = {w:.3f}, loss{l:.8f}')\n",
        "\n",
        "print(f'Prediction after training: f(5) = {forward(5)}')"
      ],
      "metadata": {
        "colab": {
          "base_uri": "https://localhost:8080/"
        },
        "id": "0VzfHA8jf9e2",
        "outputId": "d39f6252-099f-4cdb-ad0e-7fe4bef08afd"
      },
      "execution_count": 23,
      "outputs": [
        {
          "output_type": "stream",
          "name": "stdout",
          "text": [
            "epoch 1: w = 0.300, loss30.00000000\n",
            "epoch 11: w = 1.665, loss1.16278593\n",
            "epoch 21: w = 1.934, loss0.04506904\n",
            "epoch 31: w = 1.987, loss0.00174685\n",
            "epoch 41: w = 1.997, loss0.00006771\n",
            "epoch 51: w = 1.999, loss0.00000262\n",
            "epoch 61: w = 2.000, loss0.00000010\n",
            "epoch 71: w = 2.000, loss0.00000000\n",
            "epoch 81: w = 2.000, loss0.00000000\n",
            "epoch 91: w = 2.000, loss0.00000000\n",
            "Prediction after training: f(5) = 9.999999125232637\n"
          ]
        }
      ]
    },
    {
      "cell_type": "markdown",
      "source": [
        "## ultimate model\n",
        "- Prediction: Pytorch predicion\n",
        "- Gradients computation: Auto\n",
        "- Loss computation: Pytorch loss\n",
        "- Update: Pytorch Optimizer"
      ],
      "metadata": {
        "id": "seY9nunfl3_1"
      }
    },
    {
      "cell_type": "code",
      "source": [
        "import torch.nn as nn\n",
        "\n",
        "# set to 2D\n",
        "X = torch.tensor([[1], [2], [3], [4]], dtype=torch.float32)\n",
        "Y = torch.tensor([[2], [4], [6], [8]], dtype=torch.float32)\n",
        "\n",
        "n_training, n_features = X.shape\n",
        "\n",
        "input_size = n_features\n",
        "output_size = n_features\n",
        "model = nn.Linear(input_size, output_size)\n",
        "\n",
        "# test tensor\n",
        "X_test = torch.tensor([5], dtype=torch.float32)\n",
        "\n",
        "print(f'Prediction befor training: f(5) = {model(X_test).item()}')\n",
        "\n",
        "\n",
        "learning_rate = 0.01\n",
        "n_iters = 100\n",
        "\n",
        "loss = nn.MSELoss()\n",
        "optimizer = torch.optim.SGD(model.parameters(), lr = learning_rate)  # stochastic gradient descent\n",
        "\n",
        "for epoch in range(n_iters):\n",
        "  y_pred = model(X)\n",
        "\n",
        "  l = loss(Y, y_pred)\n",
        "\n",
        "  l.backward()  # dl / dw\n",
        "\n",
        "  optimizer.step()  # update\n",
        "\n",
        "  optimizer.zero_grad()  # set zero\n",
        "\n",
        "  if epoch % 10 == 0:\n",
        "    [w, b] = model.parameters()\n",
        "    print(f'epoch {epoch}: w = {w[0][0].item():.3f}, loss{l:.8f}')\n",
        "\n",
        "print(f'Prediction after training: f(5) = {model(X_test).item()}')"
      ],
      "metadata": {
        "colab": {
          "base_uri": "https://localhost:8080/"
        },
        "id": "l41bHdwdl_51",
        "outputId": "e76898ee-e70b-4798-ccdc-740f19693491"
      },
      "execution_count": 22,
      "outputs": [
        {
          "output_type": "stream",
          "name": "stdout",
          "text": [
            "Prediction befor training: f(5) = 2.265033721923828\n",
            "epoch 0: w = 0.654, loss17.51220703\n",
            "epoch 10: w = 1.616, loss0.50974643\n",
            "epoch 20: w = 1.776, loss0.06655470\n",
            "epoch 30: w = 1.807, loss0.05198195\n",
            "epoch 40: w = 1.816, loss0.04867952\n",
            "epoch 50: w = 1.822, loss0.04583895\n",
            "epoch 60: w = 1.828, loss0.04317071\n",
            "epoch 70: w = 1.833, loss0.04065794\n",
            "epoch 80: w = 1.838, loss0.03829145\n",
            "epoch 90: w = 1.842, loss0.03606270\n",
            "Prediction after training: f(5) = 9.684056282043457\n"
          ]
        }
      ]
    },
    {
      "cell_type": "markdown",
      "source": [
        "## OOP"
      ],
      "metadata": {
        "id": "jgGC0r_uoc_x"
      }
    },
    {
      "cell_type": "code",
      "source": [
        "import torch.nn as nn\n",
        "\n",
        "# set to 2D\n",
        "X = torch.tensor([[1], [2], [3], [4]], dtype=torch.float32)\n",
        "Y = torch.tensor([[2], [4], [6], [8]], dtype=torch.float32)\n",
        "\n",
        "n_training, n_features = X.shape\n",
        "\n",
        "input_size = n_features\n",
        "output_size = n_features\n",
        "# model = nn.Linear(input_size, output_size)\n",
        "\n",
        "class LinearRegression(nn.Module):\n",
        "  def __init__(self, input_dim, output_dim):\n",
        "    super(LinearRegression, self).__init__()\n",
        "    # define layers\n",
        "    self.lin = nn.Linear(input_dim, output_dim)\n",
        "\n",
        "  def forward(self, x):\n",
        "    return self.lin(x)\n",
        "\n",
        "model = LinearRegression(input_size, output_size)\n",
        "\n",
        "# test tensor\n",
        "X_test = torch.tensor([5], dtype=torch.float32)\n",
        "\n",
        "print(f'Prediction befor training: f(5) = {model(X_test).item()}')\n",
        "\n",
        "\n",
        "learning_rate = 0.01\n",
        "n_iters = 100\n",
        "\n",
        "loss = nn.MSELoss()\n",
        "optimizer = torch.optim.SGD(model.parameters(), lr = learning_rate)  # stochastic gradient descent\n",
        "\n",
        "for epoch in range(n_iters):\n",
        "  y_pred = model(X)\n",
        "\n",
        "  l = loss(Y, y_pred)\n",
        "\n",
        "  l.backward()  # dl / dw\n",
        "\n",
        "  optimizer.step()  # update\n",
        "\n",
        "  optimizer.zero_grad()  # set zero\n",
        "\n",
        "  if epoch % 10 == 0:\n",
        "    [w, b] = model.parameters()\n",
        "    print(f'epoch {epoch}: w = {w[0][0].item():.3f}, loss{l:.8f}')\n",
        "\n",
        "print(f'Prediction after training: f(5) = {model(X_test).item()}')"
      ],
      "metadata": {
        "colab": {
          "base_uri": "https://localhost:8080/"
        },
        "id": "2s9q8HvVodOe",
        "outputId": "760b8a0a-9915-43cd-98a3-84f1b0307c2c"
      },
      "execution_count": 26,
      "outputs": [
        {
          "output_type": "stream",
          "name": "stdout",
          "text": [
            "Prediction befor training: f(5) = 1.8985240459442139\n",
            "epoch 0: w = 0.797, loss22.43952942\n",
            "epoch 10: w = 1.879, loss0.59113109\n",
            "epoch 20: w = 2.050, loss0.02524594\n",
            "epoch 30: w = 2.076, loss0.01002584\n",
            "epoch 40: w = 2.078, loss0.00908652\n",
            "epoch 50: w = 2.077, loss0.00854843\n",
            "epoch 60: w = 2.074, loss0.00805067\n",
            "epoch 70: w = 2.072, loss0.00758205\n",
            "epoch 80: w = 2.070, loss0.00714075\n",
            "epoch 90: w = 2.068, loss0.00672512\n",
            "Prediction after training: f(5) = 10.136435508728027\n"
          ]
        }
      ]
    }
  ],
  "metadata": {
    "colab": {
      "provenance": []
    },
    "kernelspec": {
      "display_name": "Python 3",
      "name": "python3"
    },
    "language_info": {
      "name": "python"
    }
  },
  "nbformat": 4,
  "nbformat_minor": 0
}
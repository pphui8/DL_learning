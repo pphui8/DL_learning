{
  "nbformat": 4,
  "nbformat_minor": 0,
  "metadata": {
    "colab": {
      "provenance": [],
      "toc_visible": true
    },
    "kernelspec": {
      "name": "python3",
      "display_name": "Python 3"
    },
    "language_info": {
      "name": "python"
    }
  },
  "cells": [
    {
      "cell_type": "code",
      "source": [
        "import torch\n",
        "import numpy as np"
      ],
      "metadata": {
        "id": "P7sp-6zu-anz"
      },
      "execution_count": 1,
      "outputs": []
    },
    {
      "cell_type": "markdown",
      "source": [
        "### backpropagation"
      ],
      "metadata": {
        "id": "8TNKzu-_lfIB"
      }
    },
    {
      "cell_type": "code",
      "source": [
        "x = torch.tensor(1.0)\n",
        "y = torch.tensor(2.0)\n",
        "\n",
        "w = torch.tensor(1.0, requires_grad=True)\n",
        "\n",
        "# forward propagation\n",
        "y_hat = w * x\n",
        "loss = (y_hat - y) ** 2\n",
        "\n",
        "# backword propagation\n",
        "loss.backward()\n",
        "print(w.grad)"
      ],
      "metadata": {
        "id": "7AbQj3_AliPs"
      },
      "execution_count": null,
      "outputs": []
    },
    {
      "cell_type": "markdown",
      "source": [
        "### a simple NN model"
      ],
      "metadata": {
        "id": "DMeg9JaLt8_q"
      }
    },
    {
      "cell_type": "markdown",
      "source": [
        "#### numpy version"
      ],
      "metadata": {
        "id": "nuI9Dmd7yGKP"
      }
    },
    {
      "cell_type": "code",
      "source": [
        "import numpy as np\n",
        "\n",
        "X = np.array([1, 2, 3, 4], dtype=np.float32)\n",
        "Y = np.array([2, 4, 6, 8], dtype=np.float32)\n",
        "\n",
        "w = 0.0\n",
        "\n",
        "def forward(x):\n",
        "  return w * x\n",
        "\n",
        "def loss(y, y_prediction):\n",
        "  return ((y - y_prediction)**2).mean()\n",
        "\n",
        "# gradient\n",
        "# MSE = 1 / N * (w * x - y) ** 2\n",
        "# dj / dw = 1 / N 2x (w * x - y)\n",
        "def gradient(x, y, y_predicted):\n",
        "  return np.dot(2 * x, y_predicted - y).mean()\n",
        "\n",
        "print(f'Prediction befor training: f(5) = {forward(5)}')\n",
        "\n",
        "learning_rate = 0.01\n",
        "n_iters = 10000\n",
        "\n",
        "for epoch in range(n_iters):\n",
        "  y_pred = forward(X)\n",
        "  l = loss(Y, y_pred)\n",
        "  dw = gradient(X, Y, y_pred)\n",
        "\n",
        "  w -= learning_rate * dw\n",
        "\n",
        "  if epoch % 1000 == 0:\n",
        "    print(f'epoch {epoch + 1}: w = {w:.3f}, loss{l:.8f}')\n",
        "\n",
        "print(f'Prediction after training: f(5) = {forward(5)}')"
      ],
      "metadata": {
        "id": "qfa3glNKt_Ns"
      },
      "execution_count": null,
      "outputs": []
    },
    {
      "cell_type": "markdown",
      "source": [
        "#### pytorch version"
      ],
      "metadata": {
        "id": "vRqYHvD4yKmh"
      }
    },
    {
      "cell_type": "code",
      "source": [
        "from torch.autograd.grad_mode import no_grad\n",
        "import torch\n",
        "\n",
        "X = torch.tensor([1, 2, 3, 4], dtype=torch.float64)\n",
        "Y = torch.tensor([2, 4, 6, 8], dtype=torch.float64)\n",
        "\n",
        "w = torch.tensor(0.0, dtype=torch.float64, requires_grad=True)\n",
        "\n",
        "learning_rate = 0.01\n",
        "n_iters = 100\n",
        "\n",
        "for epoch in range(n_iters):\n",
        "  y_pred = forward(X)\n",
        "  l = loss(Y, y_pred)\n",
        "  l.backward() # dl / dw\n",
        "\n",
        "  with torch.no_grad():\n",
        "    w -= learning_rate * w.grad\n",
        "\n",
        "  w.grad.zero_()\n",
        "\n",
        "  if epoch % 10 == 0:\n",
        "    print(f'epoch {epoch + 1}: w = {w:.3f}, loss{l:.8f}')\n",
        "\n",
        "print(f'Prediction after training: f(5) = {forward(5)}')"
      ],
      "metadata": {
        "id": "J---xGgvyPoW"
      },
      "execution_count": null,
      "outputs": []
    }
  ]
}
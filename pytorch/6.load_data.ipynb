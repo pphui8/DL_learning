{
  "cells": [
    {
      "cell_type": "code",
      "execution_count": 3,
      "metadata": {
        "id": "P7sp-6zu-anz"
      },
      "outputs": [],
      "source": [
        "import torch\n",
        "import torchvision\n",
        "from torch.utils.data import Dataset, DataLoader\n",
        "import numpy as np\n",
        "import math"
      ]
    },
    {
      "cell_type": "markdown",
      "source": [
        "## load data\n",
        "epoch = forward and backward pass of ALL training samples  \n",
        "iteration = one full loop for a batch  \n",
        "\n",
        "e.g. 100 amples, batch_size = 20 ---> 100 / 20 = 5 iterations for 1 epoch"
      ],
      "metadata": {
        "id": "vwCt-4m_vV3o"
      }
    },
    {
      "cell_type": "markdown",
      "source": [
        "### load by numpy and covert into torch tensor"
      ],
      "metadata": {
        "id": "N-ArJMRKzOOf"
      }
    },
    {
      "cell_type": "code",
      "source": [
        "class WineDataset(Dataset):\n",
        "  def __init__(self):\n",
        "    # load data \n",
        "    xy = np.loadtxt('/data/wine/wine.csv', delimiter=\",\", dtype=np.float32, skiprows=1)\n",
        "    self.x = torch.from_numpy(xy[:, 1:])\n",
        "    self.y = torch.from_numpy(xy[:, [0]])\n",
        "    self.n_samples = xy.shape\n",
        "\n",
        "  def __getitem__(self, index):\n",
        "    return self.x[index], self.y[index]\n",
        "  \n",
        "  def __len__(self):\n",
        "    return self.n_samples\n",
        "\n",
        "dataset = WineDataset()\n",
        "\n",
        "dataloader = DataLoader(dataset=dataset, batch_size=4, shuffle=True, num_workers=2)\n",
        "dataiter = iter(dataloader)\n",
        "data = dataiter.next()"
      ],
      "metadata": {
        "id": "BCqrSy_Zv91l"
      },
      "execution_count": null,
      "outputs": []
    },
    {
      "cell_type": "markdown",
      "source": [
        "### Load by torch"
      ],
      "metadata": {
        "id": "S_rYpSCsyoVg"
      }
    },
    {
      "cell_type": "code",
      "source": [
        "# allow indexing and transform\n",
        "class WineDataset(Dataset):\n",
        "  def __init__(self, transform=None):\n",
        "    # load data \n",
        "    xy = np.loadtxt('/data/wine/wine.csv', delimiter=\",\", dtype=np.float32, skiprows=1)\n",
        "    self.x = torch.from_numpy(xy[:, 1:])\n",
        "    self.y = torch.from_numpy(xy[:, [0]])\n",
        "    self.n_samples = xy.shape\n",
        "\n",
        "    self.transform = transform\n",
        "\n",
        "  def __getitem__(self, index):\n",
        "    sample = self.x[index], self.y[index]\n",
        "\n",
        "    if self.transform:\n",
        "      sample = transform(sample)\n",
        "\n",
        "    return sample\n",
        "  \n",
        "  def __len__(self):\n",
        "    return self.n_samples\n",
        "\n",
        "class ToTensor:\n",
        "  def __call__(self, sample):\n",
        "    inputs, targets = sample\n",
        "    return torch.from_numpy(inputs), torch.from_numpy(targets)\n",
        "\n",
        "dataset = WineDataset(transform=ToTensor())\n",
        "\n",
        "# or..\n",
        "# if get error, set num_workers 0\n",
        "data_loader = DataLoader(\n",
        "    dataset=dataset,\n",
        "    batch_size=4,\n",
        "    shuffle=True,\n",
        "    num_workers=2\n",
        ")"
      ],
      "metadata": {
        "id": "xA8s9pH7yMRl"
      },
      "execution_count": null,
      "outputs": []
    },
    {
      "cell_type": "markdown",
      "source": [
        "### load from torchvision.datasets"
      ],
      "metadata": {
        "id": "F8rtmnUv35e-"
      }
    },
    {
      "cell_type": "code",
      "source": [
        "dataset = torchvision.datasets.MNIST(\n",
        "    root='./data',\n",
        "    train=True,\n",
        "    transform=torchvision.transforms.ToTensor(),\n",
        "    download=True\n",
        ")\n",
        "\n",
        "data_loader = DataLoader(\n",
        "    dataset=dataset,\n",
        "    batch_size=3,\n",
        "    shuffle=True\n",
        ")"
      ],
      "metadata": {
        "colab": {
          "base_uri": "https://localhost:8080/"
        },
        "id": "-IslWK2P20S6",
        "outputId": "97cf7742-148e-4237-f60d-bfb30f8c6ec9"
      },
      "execution_count": 11,
      "outputs": [
        {
          "output_type": "stream",
          "name": "stdout",
          "text": [
            "3\n"
          ]
        }
      ]
    }
  ],
  "metadata": {
    "colab": {
      "provenance": []
    },
    "kernelspec": {
      "display_name": "Python 3",
      "name": "python3"
    },
    "language_info": {
      "name": "python"
    }
  },
  "nbformat": 4,
  "nbformat_minor": 0
}
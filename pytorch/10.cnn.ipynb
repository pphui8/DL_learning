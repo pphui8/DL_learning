{
  "cells": [
    {
      "cell_type": "code",
      "source": [
        "import torch\n",
        "import torch.nn as nn\n",
        "import torch.nn.functional as F\n",
        "import numpy as np\n",
        "from torch.utils.data import DataLoader\n",
        "from torchvision import datasets, transforms\n",
        "import matplotlib.pyplot as plt\n",
        "from tqdm import tqdm"
      ],
      "metadata": {
        "id": "GoI83dDc39pn"
      },
      "execution_count": 1,
      "outputs": []
    },
    {
      "cell_type": "markdown",
      "source": [
        "## prepare"
      ],
      "metadata": {
        "id": "w1Bbr3Qf31k-"
      }
    },
    {
      "cell_type": "code",
      "source": [
        "device = torch.device('cuda' if torch.cuda.is_available() else 'cpu')\n",
        "\n",
        "train_loader = DataLoader(\n",
        "        datasets.CIFAR10(\n",
        "          root='./data',\n",
        "          train=True,\n",
        "          download=True,\n",
        "          transform=transforms.Compose([\n",
        "              transforms.ToTensor(),\n",
        "              transforms.Normalize(\n",
        "                [0.5, 0.5, 0.5],  # RGB 平均\n",
        "                [0.5, 0.5, 0.5]   # RGB 標準偏差\n",
        "                )\n",
        "          ])),\n",
        "        batch_size=128,\n",
        "        shuffle=True\n",
        "    )\n",
        " \n",
        "test_loader = DataLoader(\n",
        "    datasets.CIFAR10(\n",
        "      root='./data',\n",
        "      train=False,\n",
        "      download=True,\n",
        "      transform=transforms.Compose([\n",
        "          transforms.ToTensor(),\n",
        "          transforms.Normalize(\n",
        "              [0.5, 0.5, 0.5],  # RGB 平均\n",
        "              [0.5, 0.5, 0.5]  # RGB 標準偏差\n",
        "          )\n",
        "      ])),\n",
        "    batch_size=128,\n",
        "    shuffle=False\n",
        ")"
      ],
      "metadata": {
        "id": "575acWfJ3482"
      },
      "execution_count": null,
      "outputs": []
    },
    {
      "cell_type": "code",
      "source": [
        "classes = ('plane', 'car', 'bird', 'cat', 'deer', 'dog', 'frog', 'horse', 'ship', 'truck')  # CIFAR10のクラス\n",
        "\n",
        "dataiter = iter(test_loader)\n",
        "sample_datas, lables = next(dataiter)\n",
        "\n",
        "index = 3\n",
        "\n",
        "print( classes[lables[index]] )\n",
        "\n",
        "first_image = sample_datas[index]\n",
        "\n",
        "# convert the image tensor to a numpy array\n",
        "first_image = first_image.numpy()\n",
        "\n",
        "# transpose the image array to match the expected shape of matplotlib\n",
        "first_image = np.transpose(first_image, (1, 2, 0))\n",
        "\n",
        "# plot the image using pyplot\n",
        "plt.imshow(first_image)\n",
        "plt.show()"
      ],
      "metadata": {
        "colab": {
          "base_uri": "https://localhost:8080/",
          "height": 302
        },
        "id": "9nEck_F2IHso",
        "outputId": "de2cc0b5-7b87-43a6-f6a6-7828dd7c76c0"
      },
      "execution_count": 17,
      "outputs": [
        {
          "output_type": "stream",
          "name": "stderr",
          "text": [
            "WARNING:matplotlib.image:Clipping input data to the valid range for imshow with RGB data ([0..1] for floats or [0..255] for integers).\n"
          ]
        },
        {
          "output_type": "stream",
          "name": "stdout",
          "text": [
            "plane\n"
          ]
        },
        {
          "output_type": "display_data",
          "data": {
            "text/plain": [
              "<Figure size 432x288 with 1 Axes>"
            ],
            "image/png": "[encoded data removed]"
          },
          "metadata": {
            "needs_background": "light"
          }
        }
      ]
    },
    {
      "cell_type": "markdown",
      "source": [
        "## model train"
      ],
      "metadata": {
        "id": "n0sgJyJ7Njus"
      }
    },
    {
      "cell_type": "code",
      "source": [
        "class ConvolutionalNeuralNetwork(nn.Module):\n",
        "  def __init__(self):\n",
        "    super(ConvolutionalNeuralNetwork, self).__init__()\n",
        "\n",
        "    self.conv1 = nn.Conv2d(\n",
        "        3,    # input channel size\n",
        "        6,    # output channel size\n",
        "        5     # kernel size\n",
        "    )\n",
        "    self.pool = nn.MaxPool2d(\n",
        "        2,    # kernel size\n",
        "        2     # stride\n",
        "    )\n",
        "    self.conv2 = nn.Conv2d(6, 16, 5)\n",
        "    self.fc1 = nn.Linear(\n",
        "        16 * 5 * 5,   # input size  (fixed)\n",
        "        120           # output size\n",
        "    )\n",
        "    self.fc2 = nn.Linear(120, 84)\n",
        "    self.fc3 = nn.Linear(84, 10)\n",
        "\n",
        "  def forward(self, x):\n",
        "    # -> n, 3, 32, 32\n",
        "    x = self.pool(F.relu(self.conv1(x)))  # -> n, 6, 14, 14\n",
        "    x = self.pool(F.relu(self.conv2(x)))  # -> n, 16, 5, 5\n",
        "    x = x.view(-1, 16 * 5 * 5)            # -> n, 400\n",
        "    x = F.relu(self.fc1(x))               # -> n, 120\n",
        "    x = F.relu(self.fc2(x))               # -> n, 84\n",
        "    x = self.fc3(x)                       # -> n, 10\n",
        "    return x\n",
        "\n",
        "model = ConvolutionalNeuralNetwork().to(device)\n",
        "\n",
        "\n",
        "learning_rate = 0.0005\n",
        "num_epochs = 5\n",
        "\n",
        "# loss\n",
        "criterion = nn.CrossEntropyLoss() # softmax\n",
        "optimizer = torch.optim.SGD(model.parameters(), lr=learning_rate)\n",
        "\n",
        "n_total_steps = len(train_loader)\n",
        "\n",
        "for epoch in range(num_epochs):\n",
        "    for i, (images, labels) in enumerate(train_loader):\n",
        "        # origin shape: [4, 3, 32, 32] = 4, 3, 1024\n",
        "        # input_layer: 3 input channels, 6 output channels, 5 kernel size\n",
        "        images = images.to(device)\n",
        "        labels = labels.to(device)\n",
        "\n",
        "        # Forward pass\n",
        "        outputs = model(images)\n",
        "        loss = criterion(outputs, labels)\n",
        "\n",
        "        # Backward and optimize\n",
        "        optimizer.zero_grad()\n",
        "        loss.backward()\n",
        "        optimizer.step()\n",
        "\n",
        "        if (i+1) % 2000 == 0:\n",
        "            print (f'Epoch [{epoch+1}/{num_epochs}], Step [{i+1}/{n_total_steps}], Loss: {loss.item():.4f}')\n",
        "\n",
        "# save\n",
        "print('Finished Training')\n",
        "PATH = './cnn.pth'\n",
        "torch.save(model.state_dict(), PATH)\n",
        "\n",
        "# test\n",
        "with torch.no_grad():\n",
        "    n_correct = 0\n",
        "    n_samples = 0\n",
        "    n_class_correct = [0 for i in range(10)]\n",
        "    n_class_samples = [0 for i in range(10)]\n",
        "    for images, labels in test_loader:\n",
        "        images = images.to(device)\n",
        "        labels = labels.to(device)\n",
        "        outputs = model(images)\n",
        "        # max returns (value ,index)\n",
        "        _, predicted = torch.max(outputs, 1)\n",
        "        n_samples += labels.size(0)\n",
        "        n_correct += (predicted == labels).sum().item()\n",
        "        \n",
        "        for i in range(4):\n",
        "            label = labels[i]\n",
        "            pred = predicted[i]\n",
        "            if (label == pred):\n",
        "                n_class_correct[label] += 1\n",
        "            n_class_samples[label] += 1\n",
        "\n",
        "    acc = 100.0 * n_correct / n_samples\n",
        "    print(f'Accuracy of the network: {acc} %')\n",
        "\n",
        "    for i in range(10):\n",
        "        acc = 100.0 * n_class_correct[i] / n_class_samples[i]\n",
        "        print(f'Accuracy of {classes[i]}: {acc} %')"
      ],
      "metadata": {
        "colab": {
          "base_uri": "https://localhost:8080/"
        },
        "id": "4orQIIEH7Oat",
        "outputId": "7fc01a43-395c-45e3-fc69-303babc73926"
      },
      "execution_count": 18,
      "outputs": [
        {
          "output_type": "stream",
          "name": "stdout",
          "text": [
            "Finished Training\n",
            "Accuracy of the network: 10.34 %\n",
            "Accuracy of plane: 0.0 %\n",
            "Accuracy of car: 0.0 %\n",
            "Accuracy of bird: 0.0 %\n",
            "Accuracy of cat: 0.0 %\n",
            "Accuracy of deer: 0.0 %\n",
            "Accuracy of dog: 0.0 %\n",
            "Accuracy of frog: 0.0 %\n",
            "Accuracy of horse: 100.0 %\n",
            "Accuracy of ship: 9.375 %\n",
            "Accuracy of truck: 0.0 %\n"
          ]
        }
      ]
    }
  ],
  "metadata": {
    "colab": {
      "provenance": []
    },
    "kernelspec": {
      "display_name": "Python 3",
      "name": "python3"
    },
    "language_info": {
      "name": "python"
    }
  },
  "nbformat": 4,
  "nbformat_minor": 0
}